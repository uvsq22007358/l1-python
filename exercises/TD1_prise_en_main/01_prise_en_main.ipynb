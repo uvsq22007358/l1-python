{
  "nbformat": 4,
  "nbformat_minor": 0,
  "metadata": {
    "kernelspec": {
      "display_name": "Python 3",
      "language": "python",
      "name": "python3"
    },
    "language_info": {
      "codemirror_mode": {
        "name": "ipython",
        "version": 3
      },
      "file_extension": ".py",
      "mimetype": "text/x-python",
      "name": "python",
      "nbconvert_exporter": "python",
      "pygments_lexer": "ipython3",
      "version": "3.8.5-final"
    },
    "colab": {
      "name": "01_prise_en_main.ipynb",
      "provenance": [],
      "include_colab_link": true
    }
  },
  "cells": [
    {
      "cell_type": "markdown",
      "metadata": {
        "id": "view-in-github",
        "colab_type": "text"
      },
      "source": [
        "<a href=\"https://colab.research.google.com/github/uvsq22007358/l1-python/blob/master/exercises/TD1_prise_en_main/01_prise_en_main.ipynb\" target=\"_parent\"><img src=\"https://colab.research.google.com/assets/colab-badge.svg\" alt=\"Open In Colab\"/></a>"
      ]
    },
    {
      "cell_type": "markdown",
      "metadata": {
        "id": "Z6OmOmGjCtuB",
        "colab_type": "text"
      },
      "source": [
        "# TD 1: Environnement de programmation et premiers pas avec Python"
      ]
    },
    {
      "cell_type": "markdown",
      "metadata": {
        "id": "Bv-T4hFdCtuO",
        "colab_type": "text"
      },
      "source": [
        "---\n",
        "\n",
        "## 1.Vérification de l'installation de l'environnement de programmation\n",
        "\n",
        "Avant de débuter ce td, vous devez avoir suivi la procédure d'installation [INSTALL.md](https://github.com/uvsq-info/l1-python/blob/master/INSTALL.md) si vous utilisez votre ordinateur personnel. Et, que vous utilisiez votre ordinateur personnel ou bien un ordinateur du cartable numérique, vous avez testé toutes les étapes du [tutoriel de prise en main de l'environnement de programmation](https://github.com/uvsq-info/l1-python/blob/master/README.md) jusqu'à la partie **utilisation du projet dans un terminal**. Si un des tests ne marche pas, appelez un enseignant. Si vous ne réusissez pas à exécuter le code du notebook, et en attendant que l'on vienne vous aider, vous pouvez travailler en utilisant un [notebook en ligne](https://colab.research.google.com/notebooks/intro.ipynb). Le notebook en ligne est aussi une solution pour programmer depuis chez vous si vous n'avez pas installé l'environnement correctement. Mais la solution privilégiée reste d'installer l'environnement.\n",
        "\n",
        "Tout au long du travail que vous ferez sur le notebook, pensez à le sauvegarder en cliquant sur l'icône en haut à gauche du notebook. A la fin du td, mais également à la fin de chaque section du notebook, pensez à sauvegardez votre travail sur votre compte github. \n",
        "\n",
        "Ce td commence en présentiel, et la fin sera traitée dans le td à distance de la semaine prochaine.\n",
        "\n"
      ]
    },
    {
      "cell_type": "markdown",
      "metadata": {
        "id": "y17cJwuYCtuQ",
        "colab_type": "text"
      },
      "source": [
        "---\n",
        "## 2.Utilisation du notebook Python\n",
        "\n",
        "Dans un premier temps, nous allons voir comment utiliser le notebook. Le notebook permet d'écrire du code que l'on peut évaluer au fur et à mesure. Plus tard, nous programmerons dans un fichier texte, en utilisant l'éditeur VisualStudioCode (VSCode dans la suite) et l'environnement qu'il fournit pour écrire des programmes en Python. \n",
        "\n",
        "Un notebook contient des *cellules* qui sont de deux sortes: il y a des cellules de texte écrites dans un langage de mise en forme de texte appelé *Markdown*, et les cellules de code que vous allez remplir. Les cellules de code sont précédées de crochets `[-]` avec un tiret ou un numéro dedans (notez que la présentation peut être différente avec un autre éditeur de notebook).\n",
        "\n",
        "1. Dans la cellule de code suivante, tapez `1 + 1` puis évaluez la cellule en cliquant sur la flèche verte en haut à gauche de la cellule.\n",
        "\n",
        "\n"
      ]
    },
    {
      "cell_type": "code",
      "metadata": {
        "id": "SN29_xq9CtuS",
        "colab_type": "code",
        "colab": {
          "base_uri": "https://localhost:8080/",
          "height": 35
        },
        "outputId": "5bac4e1d-91d5-4e7e-c4d4-3c17e44369cf"
      },
      "source": [
        "1 + 1"
      ],
      "execution_count": 2,
      "outputs": [
        {
          "output_type": "execute_result",
          "data": {
            "text/plain": [
              "2"
            ]
          },
          "metadata": {
            "tags": []
          },
          "execution_count": 2
        }
      ]
    },
    {
      "cell_type": "markdown",
      "metadata": {
        "id": "I7-hZ-wpCtul",
        "colab_type": "text"
      },
      "source": [
        "2. Cliquez de nouveau sur cette cellule et appuyez sur les touches `SHIFT + ENTREE` du clavier.\n",
        "\n",
        "**Note**: Cela évalue également la cellule de code. Remarquez le numéro qui s'affiche dans les crochets: c'est *l'ordre d'évaluation* de la cellule. \n",
        "\n",
        "3. Dans la cellule suivante, affectez le résultat de l'expression `1 + 1` à une variable notée `a`. Bien entendu, évaluez la cellule (on ne le rappellera pas systématiquement)."
      ]
    },
    {
      "cell_type": "code",
      "metadata": {
        "id": "NgLWKGhoCtuq",
        "colab_type": "code",
        "colab": {}
      },
      "source": [
        "a = 1 + 1"
      ],
      "execution_count": 5,
      "outputs": []
    },
    {
      "cell_type": "markdown",
      "metadata": {
        "id": "-BN3Wpl2Ctux",
        "colab_type": "text"
      },
      "source": [
        "4. Remarquez que l'évaluation de cette cellule ne génère aucun *texte  en sortie*. Pour connaître la valeur de la variable `a`, tapez le nom de la variable dans la cellule suivante."
      ]
    },
    {
      "cell_type": "code",
      "metadata": {
        "id": "h_TymOKICtuz",
        "colab_type": "code",
        "colab": {
          "base_uri": "https://localhost:8080/",
          "height": 35
        },
        "outputId": "83d8d3e1-d407-4aea-f97e-f8b8ceadc35d"
      },
      "source": [
        "a"
      ],
      "execution_count": 10,
      "outputs": [
        {
          "output_type": "execute_result",
          "data": {
            "text/plain": [
              "3"
            ]
          },
          "metadata": {
            "tags": []
          },
          "execution_count": 10
        }
      ]
    },
    {
      "cell_type": "markdown",
      "metadata": {
        "id": "6U1NeAqCCtva",
        "colab_type": "text"
      },
      "source": [
        "5. Testez maintenant l'expression `print(a)`."
      ]
    },
    {
      "cell_type": "code",
      "metadata": {
        "tags": [],
        "id": "maXWInlfCtvc",
        "colab_type": "code",
        "colab": {
          "base_uri": "https://localhost:8080/",
          "height": 35
        },
        "outputId": "1e3fb20a-1ea0-43fa-e88e-8b1bc138bb07"
      },
      "source": [
        "print(a)"
      ],
      "execution_count": 11,
      "outputs": [
        {
          "output_type": "stream",
          "text": [
            "3\n"
          ],
          "name": "stdout"
        }
      ]
    },
    {
      "cell_type": "code",
      "metadata": {
        "id": "uXiighzMF38A",
        "colab_type": "code",
        "colab": {}
      },
      "source": [
        ""
      ],
      "execution_count": null,
      "outputs": []
    },
    {
      "cell_type": "markdown",
      "metadata": {
        "id": "shT87CnGCtvi",
        "colab_type": "text"
      },
      "source": [
        "Le résultat est identique. La première méthode fonctionne dans le notebook, mais pas dans un programme Python. C'est pourquoi il vaut mieux utiliser la deuxième méthode qui repose sur l'utilisation de la *fonction native* `print()`. L'ensemble de ces fonctions est [disponible ici](https://docs.python.org/fr/3.5/library/functions.html).\n",
        "\n",
        "6. Augmentez de 1 la valeur de `a`. L'expression doit donner le bon résultat quelle que soit la valeur de la variable."
      ]
    },
    {
      "cell_type": "code",
      "metadata": {
        "id": "41LYXGteCtvp",
        "colab_type": "code",
        "colab": {}
      },
      "source": [
        "a = a+1"
      ],
      "execution_count": 13,
      "outputs": []
    },
    {
      "cell_type": "markdown",
      "metadata": {
        "id": "kr1HT_OfCtvv",
        "colab_type": "text"
      },
      "source": [
        "Et vérifiez en affichant la valeur de `a`."
      ]
    },
    {
      "cell_type": "code",
      "metadata": {
        "id": "uHyJBOIyGINh",
        "colab_type": "code",
        "colab": {
          "base_uri": "https://localhost:8080/",
          "height": 35
        },
        "outputId": "c79c3cba-6efd-48e6-e72d-80d6626ef6e2"
      },
      "source": [
        "a"
      ],
      "execution_count": 14,
      "outputs": [
        {
          "output_type": "execute_result",
          "data": {
            "text/plain": [
              "4"
            ]
          },
          "metadata": {
            "tags": []
          },
          "execution_count": 14
        }
      ]
    },
    {
      "cell_type": "markdown",
      "metadata": {
        "id": "atThu08fCtwI",
        "colab_type": "text"
      },
      "source": [
        "7. Ré-évaluez toutes les cellules où vous avez affiché la valeur de `a`. Que remarquez-vous? On voit ici que ce qui compte dans le notebook est *l'ordre d'évaluation* et non pas *l'ordre d'apparition* des cellules. Ce comportement est source d'erreur, il faut donc bien y faire attention.\n",
        "\n",
        "8. Sans écrire de code supplémentaire, augmentez encore de 1 la valeur de `a`, et vérifiez que ça a bien fonctionné.\n",
        "\n",
        "**Note**: les 5 questions suivantes sont relatives à l'usage du notebook dans VSCode. Si vous travaillez avec un autre type de notebook, il est possible que vous n'ayez pas accès à toutes ces fonctionnalités.\n",
        "\n",
        "9. Parmi les icônes qui apparaissent en haut du notebook, trouvez celui qui affiche `clear all output`. Cliquez dessus, puis ré-évaluez la variable `a`.\n",
        "\n",
        "10. Parmi les icônes qui apparaissent en haut du notebook, trouvez celui qui affiche `show variables active in jupyter kernel`. Cliquez dessus et regardez le résultat. Cet outil est très utile pour comprendre les erreurs liées à l'ordre d'évaluation des cellules.\n",
        "\n",
        "11. Parmi les icônes qui apparaissent en haut du notebook, trouvez celui qui affiche `restart IPython kernel`. Cliquez dessus et regardez le résultat dans l'affichage des variables. Ré-évaluez la variable `a`. Que se passe-t'il?\n",
        "\n",
        "12. Dans cette même barre, trouvez l'icône qui permet d'évaluer toutes les cellules se trouvant au-dessus de ce bloc de texte.\n",
        "\n",
        "13. Enfin, sauvegardez votre travail.\n",
        "\n",
        "14. Dans la cellule suivante, affectez la valeur 5 à la variable `a` et la valeur 2 à la variable `b`, puis afficher les 2 valeurs avec l'expression `print(a, b)`.\n"
      ]
    },
    {
      "cell_type": "code",
      "metadata": {
        "tags": [],
        "id": "ksQG1BB3CtwJ",
        "colab_type": "code",
        "colab": {
          "base_uri": "https://localhost:8080/",
          "height": 35
        },
        "outputId": "1da0934b-ad66-490c-cf38-f21e22012d06"
      },
      "source": [
        "a=5\n",
        "b=2\n",
        "print(a,b)"
      ],
      "execution_count": 18,
      "outputs": [
        {
          "output_type": "stream",
          "text": [
            "5 2\n"
          ],
          "name": "stdout"
        }
      ]
    },
    {
      "cell_type": "markdown",
      "metadata": {
        "id": "IEA6e3ojCtwf",
        "colab_type": "text"
      },
      "source": [
        "15. Ecrivez le code qui permet d'échanger la valeur des variables `a` et `b`. Puis affichez leurs valeurs."
      ]
    },
    {
      "cell_type": "code",
      "metadata": {
        "tags": [],
        "id": "oRX0xAlFCtwh",
        "colab_type": "code",
        "colab": {
          "base_uri": "https://localhost:8080/",
          "height": 35
        },
        "outputId": "096dc62b-216a-49d8-9c03-cb87bc32c274"
      },
      "source": [
        "a=5\n",
        "b=2\n",
        "c=a\n",
        "a=b\n",
        "b=c\n",
        "print(a,b)"
      ],
      "execution_count": 23,
      "outputs": [
        {
          "output_type": "stream",
          "text": [
            "2 5\n"
          ],
          "name": "stdout"
        }
      ]
    },
    {
      "cell_type": "markdown",
      "metadata": {
        "id": "cGDRFR4dCtwr",
        "colab_type": "text"
      },
      "source": [
        "16. Pour enrichir l'affichage, recopiez l'expression `print(\"a vaut\", a, \"et b vaut\", b)`."
      ]
    },
    {
      "cell_type": "code",
      "metadata": {
        "tags": [],
        "id": "AQ4U2ubTCtw4",
        "colab_type": "code",
        "colab": {
          "base_uri": "https://localhost:8080/",
          "height": 35
        },
        "outputId": "e529a829-8e17-4322-cc1a-94dd01eb5311"
      },
      "source": [
        "print(\"a vaut\", a, \"et b vaut\", b)"
      ],
      "execution_count": 24,
      "outputs": [
        {
          "output_type": "stream",
          "text": [
            "a vaut 2 et b vaut 5\n"
          ],
          "name": "stdout"
        }
      ]
    },
    {
      "cell_type": "markdown",
      "metadata": {
        "id": "3lhQO4hKCtxA",
        "colab_type": "text"
      },
      "source": [
        "17.  Recopiez l'affectation suivante `a = \"hello world\"`, puis affichez la valeur de `a`."
      ]
    },
    {
      "cell_type": "code",
      "metadata": {
        "tags": [],
        "id": "MvfQOtVACtxF",
        "colab_type": "code",
        "colab": {
          "base_uri": "https://localhost:8080/",
          "height": 35
        },
        "outputId": "84b598a4-638f-4592-9dc7-b5853dd7d7d2"
      },
      "source": [
        "a= \"hello world\"\n",
        "a"
      ],
      "execution_count": 26,
      "outputs": [
        {
          "output_type": "execute_result",
          "data": {
            "application/vnd.google.colaboratory.intrinsic+json": {
              "type": "string"
            },
            "text/plain": [
              "'hello world'"
            ]
          },
          "metadata": {
            "tags": []
          },
          "execution_count": 26
        }
      ]
    },
    {
      "cell_type": "markdown",
      "metadata": {
        "id": "VE70OZo1CtxW",
        "colab_type": "text"
      },
      "source": [
        "**Note**: la variable `a` contenait un entier, et maintenant une chaîne de caractères. En Python les variables ont un *type dynamique* contrairement au type statique où le type des variables est défini une fois pour toutes. De plus ce typage est *implicite*, c'est-à-dire qu'il est déterminé par les objets auxquels les variables font référence sans avoir besoin de l'écrire explicitement.\n",
        "\n",
        "18. Afficher de nouveau la valeur de `a` sans utiliser la fonction `print`. Que constatez-vous?\n",
        "\n",
        "19. Avant de passer à la suite, sauvegardez votre notebook, et sauvegardez le sur github."
      ]
    },
    {
      "cell_type": "markdown",
      "metadata": {
        "id": "gfkN1rnrCtxc",
        "colab_type": "text"
      },
      "source": [
        "\n",
        "-------------------\n",
        "## 3.Types de données\n",
        "En Python, toute variable ou expression possède un *type* qui définit, entre autres, les opérations que l'on peut lui  appliquer. Parmi les types natifs on peut citer les nombres entiers, les nombres flottants, les chaînes de caractères (string en anglais) et les booléens (Vrai ou Faux).\n",
        "\n",
        "\n",
        "1. Prédisez le type de chacune des expressions suivantes. Vérifiez le à l'aide de la fonction `type()`:\n",
        "\n",
        "* `5`\n",
        "* `5.0`\n",
        "* `\"5\"`\n",
        "* `-5`\n",
        "* `5 / 2`\n",
        "* `5 // 2`\n",
        "* ` 5 == 2  `\n",
        "* `5 = 2`"
      ]
    },
    {
      "cell_type": "code",
      "metadata": {
        "id": "QJdGIRBBCtxd",
        "colab_type": "code",
        "colab": {
          "base_uri": "https://localhost:8080/",
          "height": 136
        },
        "outputId": "1d395ac0-fed2-47ee-b9ff-032233c8677d"
      },
      "source": [
        "type(5=2)"
      ],
      "execution_count": 37,
      "outputs": [
        {
          "output_type": "error",
          "ename": "SyntaxError",
          "evalue": "ignored",
          "traceback": [
            "\u001b[0;36m  File \u001b[0;32m\"<ipython-input-37-a741f11c5241>\"\u001b[0;36m, line \u001b[0;32m1\u001b[0m\n\u001b[0;31m    type(5=2)\u001b[0m\n\u001b[0m        ^\u001b[0m\n\u001b[0;31mSyntaxError\u001b[0m\u001b[0;31m:\u001b[0m keyword can't be an expression\n"
          ]
        }
      ]
    },
    {
      "cell_type": "markdown",
      "metadata": {
        "id": "gnJVoFEICtxm",
        "colab_type": "text"
      },
      "source": [
        "Ce sont les types de base du langage Python que nous allons étudier dans la suite. Notez que les nombres flottants s'écrivent avec un point et non avec une virgule.\n",
        "\n",
        "2. Faites la même chose avec les expressions suivantes:\n",
        "\n",
        "* `(5, 2)`\n",
        "* `[5, 2]`\n",
        "* `{5, 2}`\n"
      ]
    },
    {
      "cell_type": "code",
      "metadata": {
        "id": "uDcFOivKCtxn",
        "colab_type": "code",
        "colab": {}
      },
      "source": [
        ""
      ],
      "execution_count": null,
      "outputs": []
    },
    {
      "cell_type": "markdown",
      "metadata": {
        "id": "hoiC3QaoCtx4",
        "colab_type": "text"
      },
      "source": [
        "Ce sont des types avancés, qui permettent de construire des structures de données plus complexes, que nous apprendrons à manipuler plus tard. Pouvez-vous trouver une expression ayant un autre type?  Vous pouvez consulter la [documentation Python sur les types](https://docs.python.org/fr/3/library/stdtypes.html).\n",
        "\n",
        "3. Maintenant, affectez une valeur à une variable `x`, et écrivez le code qui affiche, par exemple, `le type de x est <class 'int'>` si jamais la valeur stockée dans `x` est un entier.\n"
      ]
    },
    {
      "cell_type": "code",
      "metadata": {
        "tags": [],
        "id": "LX7HTgYXCtx5",
        "colab_type": "code",
        "colab": {}
      },
      "source": [
        ""
      ],
      "execution_count": null,
      "outputs": []
    },
    {
      "cell_type": "markdown",
      "metadata": {
        "id": "PHOB0f4UCtyJ",
        "colab_type": "text"
      },
      "source": [
        "\n",
        "### 3.1 Type numérique entier\n",
        "\n",
        "1. Affectez une valeur entière à une variable `v`.\n"
      ]
    },
    {
      "cell_type": "code",
      "metadata": {
        "id": "v7EzyJAOCtyK",
        "colab_type": "code",
        "colab": {}
      },
      "source": [
        ""
      ],
      "execution_count": null,
      "outputs": []
    },
    {
      "cell_type": "markdown",
      "metadata": {
        "id": "V1REY5oSCtyQ",
        "colab_type": "text"
      },
      "source": [
        "2. Ecrivez le résultat de la division entière de `v` par 11. Par exemple, si `v` vaut 149, le résultat affiché doit être de la forme: \n",
        "\n",
        "`149 = 13 x 11 + 6`"
      ]
    },
    {
      "cell_type": "code",
      "metadata": {
        "tags": [],
        "id": "Gi_WUtjMCtyT",
        "colab_type": "code",
        "colab": {}
      },
      "source": [
        ""
      ],
      "execution_count": null,
      "outputs": []
    },
    {
      "cell_type": "markdown",
      "metadata": {
        "id": "tW-tSKmTCtyi",
        "colab_type": "text"
      },
      "source": [
        "3. Prédisez le résultat des expressions suivantes, puis évaluer le code:\n",
        "* `3 * (10 / 3)`\n",
        "* `3 * (10 // 3)`\n",
        "* `(3 * 10) // 3`"
      ]
    },
    {
      "cell_type": "code",
      "metadata": {
        "id": "1bB3jihVCtym",
        "colab_type": "code",
        "colab": {}
      },
      "source": [
        ""
      ],
      "execution_count": null,
      "outputs": []
    },
    {
      "cell_type": "markdown",
      "metadata": {
        "id": "NKIUMXR6Ctyr",
        "colab_type": "text"
      },
      "source": [
        "5. Le résultat change-t'il si on retire les parenthèses des expressions précédentes?"
      ]
    },
    {
      "cell_type": "markdown",
      "metadata": {
        "id": "3b3fu2dWCtys",
        "colab_type": "text"
      },
      "source": [
        "\n",
        "6. Affectez un nombre entier à une variable, puis écrivez une expression qui affiche `True` si la variable est paire et `False` sinon."
      ]
    },
    {
      "cell_type": "code",
      "metadata": {
        "tags": [],
        "id": "apY__KyvCtyt",
        "colab_type": "code",
        "colab": {}
      },
      "source": [
        ""
      ],
      "execution_count": null,
      "outputs": []
    },
    {
      "cell_type": "markdown",
      "metadata": {
        "id": "1i94keM3Cty1",
        "colab_type": "text"
      },
      "source": [
        "7. L'opérateur puissance s'écrit `**`. Par exemple, 2 à la puissance 10 s'écrit `2 ** 10`. Affichez la valeur de 2 puissance 256. Combien de chiffres a ce nombre (en évitant de compter sur l'écran)?"
      ]
    },
    {
      "cell_type": "code",
      "metadata": {
        "tags": [],
        "id": "Ar8Q3ZjgCty2",
        "colab_type": "code",
        "colab": {}
      },
      "source": [
        ""
      ],
      "execution_count": null,
      "outputs": []
    },
    {
      "cell_type": "markdown",
      "metadata": {
        "id": "Wi_HDaTKCtzI",
        "colab_type": "text"
      },
      "source": [
        "**Note**:  les nombres entiers ont une précision arbitraire."
      ]
    },
    {
      "cell_type": "markdown",
      "metadata": {
        "id": "-9dSf5W8CtzJ",
        "colab_type": "raw"
      },
      "source": [
        "Ecrire l'expression qui donne le dernier chiffre du nombre référencé par la variable `a`."
      ]
    },
    {
      "cell_type": "markdown",
      "metadata": {
        "id": "rOXLlA8uCtzK",
        "colab_type": "raw"
      },
      "source": [
        "Ecrire l'expression qui donne l'avant-dernier chiffre du nombre référencé par la variable `a`."
      ]
    },
    {
      "cell_type": "markdown",
      "metadata": {
        "id": "Q6cCTVMWCtzL",
        "colab_type": "text"
      },
      "source": [
        "\n",
        "### 3.2 Nombres flottants\n",
        "\n",
        "1. L'expression `0.2 + 0.4` est-elle égale, supérieure ou inférieure à `0.6`?"
      ]
    },
    {
      "cell_type": "code",
      "metadata": {
        "tags": [],
        "id": "GJIvzV3ICtzM",
        "colab_type": "code",
        "colab": {}
      },
      "source": [
        ""
      ],
      "execution_count": null,
      "outputs": []
    },
    {
      "cell_type": "markdown",
      "metadata": {
        "id": "0upZUyqBCtzT",
        "colab_type": "text"
      },
      "source": [
        "2. Affectez la valeur 0.5 à une variable `x`. Multipliez `x` par $2^{30}$ puis convertissez le résultat obtenu en valeur entière (utilisez la fonction `int()`) puis divisez le résultat par $2^{30}$ (faire une division flottante)."
      ]
    },
    {
      "cell_type": "code",
      "metadata": {
        "tags": [],
        "id": "vVPW0BPECtze",
        "colab_type": "code",
        "colab": {}
      },
      "source": [
        ""
      ],
      "execution_count": null,
      "outputs": []
    },
    {
      "cell_type": "markdown",
      "metadata": {
        "id": "Q1IUp9AyCtzl",
        "colab_type": "text"
      },
      "source": [
        "3. Remplacez la valeur de `x` par 0.1 et refaites le calcul."
      ]
    },
    {
      "cell_type": "markdown",
      "metadata": {
        "id": "sKoGVGVOCtzm",
        "colab_type": "text"
      },
      "source": [
        "4. Pouvez-vous trouver d'autres valeurs de `x` pour lesquelles l'expression calculée redonne la valeur de `x`?\n",
        "\n",
        "**Note**: les nombres flottants que l'on manipule sont en fait une approximation de ces nombres. Pour plus de détails, vous pouvez consulter [cet article](https://docs.python.org/fr/3.8/tutorial/floatingpoint.html)."
      ]
    },
    {
      "cell_type": "markdown",
      "metadata": {
        "id": "Ao2qkJOcCtzn",
        "colab_type": "text"
      },
      "source": [
        "### 3.3 Chaînes de caractères"
      ]
    },
    {
      "cell_type": "markdown",
      "metadata": {
        "id": "ebjwajGRCtzo",
        "colab_type": "text"
      },
      "source": [
        "1. Dans la cellule de code suivante, affichez le résultat de l'expression `a + b`, et de `b + a`"
      ]
    },
    {
      "cell_type": "code",
      "metadata": {
        "tags": [],
        "id": "yKu96PzxCtzp",
        "colab_type": "code",
        "colab": {}
      },
      "source": [
        "a = \"hello\"\n",
        "b = 'world'"
      ],
      "execution_count": null,
      "outputs": []
    },
    {
      "cell_type": "markdown",
      "metadata": {
        "id": "2WUwkdaQCtzy",
        "colab_type": "text"
      },
      "source": [
        "**Notes**: les chaînes de caractères peuvent s'écrire avec des guillemets simples ou doubles (d'autres formes existent). L'opération d'addition de chaînes est appelée *concaténation*.\n",
        "\n",
        "2. Dans la cellule précédente, ajoutez un espace entre `hello` et `world` sans modifier les variables."
      ]
    },
    {
      "cell_type": "markdown",
      "metadata": {
        "id": "DbB-cq1hCtzz",
        "colab_type": "text"
      },
      "source": [
        "3. Avant d'afficher le résultat, prédire ce que valent `a * 3` et `(a + b) * 2`?"
      ]
    },
    {
      "cell_type": "code",
      "metadata": {
        "tags": [],
        "id": "eABd3EJ8Ctz_",
        "colab_type": "code",
        "colab": {}
      },
      "source": [
        ""
      ],
      "execution_count": null,
      "outputs": []
    },
    {
      "cell_type": "markdown",
      "metadata": {
        "id": "cBgTdDKbCt0H",
        "colab_type": "text"
      },
      "source": [
        "4. On peut appliquer des *méthodes* (ce sont des fonctions qui s'appliquent à un certain type d'objets) à une chaîne de caractères. Par exemple tester ce que vaut `a.upper()`."
      ]
    },
    {
      "cell_type": "code",
      "metadata": {
        "id": "W2012MAMCt0j",
        "colab_type": "code",
        "colab": {}
      },
      "source": [
        ""
      ],
      "execution_count": null,
      "outputs": []
    },
    {
      "cell_type": "markdown",
      "metadata": {
        "id": "pBLZBtk9Ct0v",
        "colab_type": "text"
      },
      "source": [
        "Vous pouvez voir la liste des méthodes associées aux chaînes de caractères (ainsi que sur les autres types natifs) sur [cette page](https://docs.python.org/fr/3/library/stdtypes.html#string-methods).\n",
        "\n",
        "5. La variable `a` a-t'elle été modifiée?"
      ]
    },
    {
      "cell_type": "code",
      "metadata": {
        "id": "a2VS6G_4Ct1C",
        "colab_type": "code",
        "colab": {}
      },
      "source": [
        ""
      ],
      "execution_count": null,
      "outputs": []
    },
    {
      "cell_type": "markdown",
      "metadata": {
        "id": "4ULCzJecCt1M",
        "colab_type": "text"
      },
      "source": [
        "6. Que vaut `a > b`?"
      ]
    },
    {
      "cell_type": "code",
      "metadata": {
        "tags": [],
        "id": "fNRtB7s_Ct1N",
        "colab_type": "code",
        "colab": {}
      },
      "source": [
        ""
      ],
      "execution_count": null,
      "outputs": []
    },
    {
      "cell_type": "markdown",
      "metadata": {
        "id": "IlBoxw-sCt1c",
        "colab_type": "text"
      },
      "source": [
        "7. Quelle est la signification de cette comparaison?"
      ]
    },
    {
      "cell_type": "markdown",
      "metadata": {
        "id": "2z7CnCQkCt1d",
        "colab_type": "text"
      },
      "source": [
        "### 3.4 Conversions"
      ]
    },
    {
      "cell_type": "markdown",
      "metadata": {
        "id": "BscqoQqKCt1e",
        "colab_type": "text"
      },
      "source": [
        "1. Dans la cellule de code suivante, devinez ce que vaut `a * 2` avant de l'afficher."
      ]
    },
    {
      "cell_type": "code",
      "metadata": {
        "tags": [],
        "id": "zerix-jfCt1f",
        "colab_type": "code",
        "colab": {}
      },
      "source": [
        "a = \"32\""
      ],
      "execution_count": null,
      "outputs": []
    },
    {
      "cell_type": "markdown",
      "metadata": {
        "id": "wD7ObzdHCt1z",
        "colab_type": "text"
      },
      "source": [
        "2. Utilisez la fonction de conversion `int()` pour obtenir le résultat de la multiplication de nombres entiers (64 ici)."
      ]
    },
    {
      "cell_type": "code",
      "metadata": {
        "tags": [],
        "id": "mypNfzHyCt10",
        "colab_type": "code",
        "colab": {}
      },
      "source": [
        ""
      ],
      "execution_count": null,
      "outputs": []
    },
    {
      "cell_type": "markdown",
      "metadata": {
        "id": "l80IUps5Ct2F",
        "colab_type": "text"
      },
      "source": [
        "3. Ecrivez l'expression `s = input(\"Tape quelquechose au clavier\")` puis affichez `s`. Que se passe-t'il?"
      ]
    },
    {
      "cell_type": "code",
      "metadata": {
        "tags": [],
        "id": "j6-vj9TwCt2N",
        "colab_type": "code",
        "colab": {}
      },
      "source": [
        ""
      ],
      "execution_count": null,
      "outputs": []
    },
    {
      "cell_type": "markdown",
      "metadata": {
        "id": "-cXsyiRiCt2U",
        "colab_type": "text"
      },
      "source": [
        "4. Recopiez le code de la cellule précédente. L'utilisateur doit saisir un nombre entier puis vous affichez ce nombre multiplié par 2."
      ]
    },
    {
      "cell_type": "code",
      "metadata": {
        "tags": [],
        "id": "JOlJrvGyCt2Y",
        "colab_type": "code",
        "colab": {}
      },
      "source": [
        ""
      ],
      "execution_count": null,
      "outputs": []
    },
    {
      "cell_type": "markdown",
      "metadata": {
        "id": "ymFF8vn7Ct2u",
        "colab_type": "text"
      },
      "source": [
        "5. ́Ecrivez le code qui demande son âge à l’utilisateur et répond en utilisant sa réponse au milieu d’une phrase, comme par exemple en lui donnant l’âge qu’il aura en 2031 le même jour."
      ]
    },
    {
      "cell_type": "code",
      "metadata": {
        "tags": [],
        "id": "pSe4gY9vCt2v",
        "colab_type": "code",
        "colab": {}
      },
      "source": [
        ""
      ],
      "execution_count": null,
      "outputs": []
    },
    {
      "cell_type": "markdown",
      "metadata": {
        "id": "NbWNRxN6Ct21",
        "colab_type": "text"
      },
      "source": [
        "6. Avant de passer à la suite, sauvegardez votre notebook sur github."
      ]
    },
    {
      "cell_type": "markdown",
      "metadata": {
        "id": "-dF1kUEXCt22",
        "colab_type": "text"
      },
      "source": [
        "---\n",
        "## Exercices supplémentaires"
      ]
    },
    {
      "cell_type": "markdown",
      "metadata": {
        "tags": [],
        "id": "_nYfs3OeCt26",
        "colab_type": "text"
      },
      "source": [
        "1. Parmi les chaînes de caractères suivantes, lesquelles peuvent être des noms de variable?\n",
        "* `f`\n",
        "* `l`\n",
        "* `f2`\n",
        "* `2f`\n",
        "* `totolehero`\n",
        "* `toto_le_hero`\n",
        "* `import`\n",
        "* `toto2-le-retour`\n",
        "\n",
        "Et parmi les noms corrects, lesquels ne sont pas recommandés (voir la [PEP8](https://www.python.org/dev/peps/pep-0008/#naming-conventions))?\n"
      ]
    },
    {
      "cell_type": "markdown",
      "metadata": {
        "id": "BTnLerfQCt3E",
        "colab_type": "text"
      },
      "source": [
        "2. Demandez à l'utilisateur de rentrer un nombre, puis afficher sa racine carrée en faisant une phrase."
      ]
    },
    {
      "cell_type": "code",
      "metadata": {
        "tags": [],
        "id": "HQqPbVwHCt3F",
        "colab_type": "code",
        "colab": {}
      },
      "source": [
        ""
      ],
      "execution_count": null,
      "outputs": []
    },
    {
      "cell_type": "markdown",
      "metadata": {
        "id": "c2YAlJAQCt3K",
        "colab_type": "text"
      },
      "source": [
        "3. Ecrivez le code qui affiche:\n",
        "* la chaı̂ne ”aaaaaa...” (250 ”a”)\n",
        "* la chaı̂ne ”bbbb....a” (250 ”b” suivis d’un ”a”)\n",
        "* la chaı̂ne ”bbbb....aaabbb...” (250 ”b” suivis d’un ”a” suivi de 100 b)\n",
        "* 50 fois ”bonjour” en allant à la ligne à chaque fois (utilisez ”\\n”)\n"
      ]
    },
    {
      "cell_type": "code",
      "metadata": {
        "tags": [],
        "id": "u4BGZonzCt3L",
        "colab_type": "code",
        "colab": {}
      },
      "source": [
        ""
      ],
      "execution_count": null,
      "outputs": []
    }
  ]
}